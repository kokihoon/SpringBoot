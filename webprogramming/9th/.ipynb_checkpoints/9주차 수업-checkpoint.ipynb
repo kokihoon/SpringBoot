{
 "cells": [
  {
   "cell_type": "markdown",
   "metadata": {},
   "source": [
    "# Template engine"
   ]
  },
  {
   "cell_type": "markdown",
   "metadata": {},
   "source": [
    "---"
   ]
  },
  {
   "cell_type": "markdown",
   "metadata": {},
   "source": [
    " - 6장. 프로젝트 만들기\n",
    " - h2, web, thymeleaf, DevTools, jpa 추가"
   ]
  },
  {
   "attachments": {},
   "cell_type": "markdown",
   "metadata": {},
   "source": [
    "## mvnrepository.com\n",
    "1. ![image.png](스크린샷 2018-05-08 오전 10.23.43.png) Thymeleaf Layout Dialect 들어가기\n",
    "2. ![image.png](스크린샷 2018-05-08 오전 10.32.27.png) 2.3.0 클릭\n",
    "3. ![image.png](스크린샷 2018-05-08 오전 10.24.33.png) maven 복사\n",
    "4. ![image.png](스크린샷 2018-05-08 오전 10.29.45.png) <dependencies> 여기 안에 붙여 넣기\n",
    "\n",
    "Thymeleaf Layout Dialect : 방언\n"
   ]
  },
  {
   "cell_type": "markdown",
   "metadata": {},
   "source": [
    "5. ![image.png](스크린샷 2018-05-08 오전 10.34.45.png) layout 폴더 만들기\n",
    "6. http://www.namgarambooks.co.kr/ 들어가서 스타트 스프링부트 예제코드 다운로드 받기\n",
    "7. ![image.png](스크린샷 2018-05-08 오전 10.41.44.png) 에 있는 static, templates 다 복사해서 붙여 넣기하기\n",
    "8. ![image.png](스크린샷 2018-05-08 오전 10.43.46.png) 이렇게 만들기 \n"
   ]
  },
  {
   "cell_type": "markdown",
   "metadata": {},
   "source": [
    "1. http://bootstrapk.com/ 들어가기\n",
    "2. ![image.png](스크린샷 2018-05-08 오전 10.46.37.png) 에서 복사하기\n",
    "3. ![image.png](스크린샷 2018-05-08 오전 10.47.37.png) 여기에 붙여 넣기\n",
    "4. ![image.png](스크린샷 2018-05-08 오전 10.49.19.png) 지우기\n",
    "5. ![image.png](스크린샷 2018-05-08 오전 10.52.20.png) 260쪽에 있는 내용 넣기\n",
    "6. ![image.png](스크린샷 2018-05-08 오전 11.13.40.png) board 패키지 만들고 boardcontroller만들고 코드 작성하기\n",
    "7. ![image.png](스크린샷 2018-05-08 오전 11.22.41.png) templates/boards/list.html을 만든다.\n",
    "8. ![image.png](스크린샷 2018-05-08 오전 11.23.57.png) spring boot app을 실행한다. 그리고 localhost:8080/boards/list로 들어간다.\n"
   ]
  },
  {
   "cell_type": "markdown",
   "metadata": {},
   "source": [
    "### get이라는 명령으로  /boards/list로 간다. 그럼 controller로 간다. list 뒤에는 /가 없다.\n",
    "### RequestMapping(\"/boards/\") 으로 /가 있다.\n",
    "1. /boards/로 오고\n",
    "2. /list 로 온다.\n",
    "## list()에서 return 값이 없는데 되는 이유는 @Controller때문이다 이것은 리턴값이 없으면 html 파일이 있다고 인식한다. 무조건 resources폴더에 가서 list.html 파일을 찾기 시작한다.\n",
    "\n",
    "# 1. Controller -> Mapping\n",
    "# 2. HTML 열기\n",
    " - layout\n",
    " - content <-주입- list.html\n",
    "\n",
    "head 태그는 렌더링할 때 js가 먼저 호출되지 않으면 안된다. 그래서 body먼저 호출된다. 그리고 js를 호출한다. 그리고 head의 css자리 잡고 색깔하고 불러온다. css,js 등을 로딩한다. 전처리자.\n",
    "\n",
    "html은 헤더 중복이여서 빼내고 싶음. 그런데 html은 그런 문법이 없다. 그래서 템플릿엔진에서 도와준다.\n",
    "# 오늘 배운건 템플릿 엔진 사용법"
   ]
  },
  {
   "cell_type": "markdown",
   "metadata": {},
   "source": []
  },
  {
   "cell_type": "code",
   "execution_count": null,
   "metadata": {},
   "outputs": [],
   "source": []
  },
  {
   "cell_type": "code",
   "execution_count": null,
   "metadata": {},
   "outputs": [],
   "source": []
  }
 ],
 "metadata": {
  "kernelspec": {
   "display_name": "Python 3",
   "language": "python",
   "name": "python3"
  },
  "language_info": {
   "codemirror_mode": {
    "name": "ipython",
    "version": 3
   },
   "file_extension": ".py",
   "mimetype": "text/x-python",
   "name": "python",
   "nbconvert_exporter": "python",
   "pygments_lexer": "ipython3",
   "version": "3.6.5"
  }
 },
 "nbformat": 4,
 "nbformat_minor": 2
}
